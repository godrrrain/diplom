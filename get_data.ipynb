{
 "cells": [
  {
   "cell_type": "code",
   "execution_count": 34,
   "id": "7bb53bba-36e7-4a51-bc35-d934be56e019",
   "metadata": {
    "tags": []
   },
   "outputs": [
    {
     "name": "stdout",
     "output_type": "stream",
     "text": [
      "Connecting to localhost... done! \t Logging into default_node_name... done!\n"
     ]
    }
   ],
   "source": [
    "import syft as sy\n",
    "\n",
    "domain = sy.login(email=\"vova.degtyarev.01@mail.ru\", password=\"20012002\", url=\"localhost\",port=8081)"
   ]
  },
  {
   "cell_type": "code",
   "execution_count": 2,
   "id": "273d4f8c-cd46-4b63-9552-86fab7df8c59",
   "metadata": {
    "tags": []
   },
   "outputs": [
    {
     "data": {
      "text/plain": [
       "'default_node_name'"
      ]
     },
     "execution_count": 2,
     "metadata": {},
     "output_type": "execute_result"
    }
   ],
   "source": [
    "domain.name"
   ]
  },
  {
   "cell_type": "code",
   "execution_count": 35,
   "id": "bbd49177-f741-4128-9545-ea2ded054ffb",
   "metadata": {
    "tags": []
   },
   "outputs": [
    {
     "data": {
      "text/html": [
       "<style>\n",
       "                #myInput {\n",
       "                  background-position: 10px 12px; /* Position the search icon */\n",
       "                  background-repeat: no-repeat; /* Do not repeat the icon image */\n",
       "                  background-color: #bbb;\n",
       "                  width: 98%; /* Full-width */\n",
       "                  font-size: 14px; /* Increase font-size */\n",
       "                  padding: 12px 20px 12px 40px; /* Add some padding */\n",
       "                  border: 1px solid #ddd; /* Add a grey border */\n",
       "                  margin-bottom: 12px; /* Add some space below the input */\n",
       "                }\n",
       "\n",
       "                #myTable {\n",
       "                  border-collapse: collapse; /* Collapse borders */\n",
       "                  width: 100%; /* Full-width */\n",
       "                  border: 1px solid #ddd; /* Add a grey border */\n",
       "                  font-size: 14px; /* Increase font-size */\n",
       "                }\n",
       "\n",
       "                #myTable th, #myTable td {\n",
       "                  text-align: left; /* Left-align text */\n",
       "                  padding: 10px; /* Add padding */\n",
       "                }\n",
       "\n",
       "                #myTable tr {\n",
       "                  /* Add a bottom border to all table rows */\n",
       "                  border-bottom: 1px solid #ddd;\n",
       "                }\n",
       "\n",
       "                #myTable tr.header, #myTable tr:hover {\n",
       "                  /* Add a grey background color to the table header and on hover */\n",
       "                  background-color: #777;\n",
       "                }\n",
       "                </style>\n",
       "\n",
       "                <table id=\"myTable\" style=\"width:1000px\">\n",
       "                  <tr class=\"header\">\n",
       "                    <th style=\"width:30px\">Idx</th>\n",
       "                    <th style=\"width:20%;\">Name</th>\n",
       "                    <th style=\"width:35%;\">Description</th>\n",
       "                    <th style=\"width:20%;\">Assets</th>\n",
       "                    <th style=\"width:300px;\">Id</th>\n",
       "                  </tr>\n",
       "                \n",
       "\n",
       "          <tr>\n",
       "            <td>[0]</td>\n",
       "            <td>Family_Age_Dataset</td>\n",
       "            <td>Our dataset contains the Ages of our four Family members with unique ID's. There are 2 columns and 4 rows in our dataset.</td>\n",
       "            <td>[\"Age_Data\"] -> Tensor<br /><br /></td>\n",
       "            <td>2515f228-3967-4b88-ae59-df697aad6518</td>\n",
       "          </tr>\n",
       "\n",
       "          <tr>\n",
       "            <td>[1]</td>\n",
       "            <td>Spiderman_Audience_Age_Dataset</td>\n",
       "            <td>Our dataset contains the Ages of people who watched the movie Spiderman in the cinema in Moscow. There are 2 columns and 11 rows in our dataset.</td>\n",
       "            <td>[\"Age_Data\"] -> Tensor<br /><br /></td>\n",
       "            <td>0969b9b9-af47-41e3-9604-4eeb9f16c4bb</td>\n",
       "          </tr>\n",
       "\n",
       "          <tr>\n",
       "            <td>[2]</td>\n",
       "            <td>Spiderman_Age_v2_Dataset</td>\n",
       "            <td>Our dataset contains the Ages of people who watched the movie Spiderman in the cinema in Moscow version 2. There are 2 columns and 11 rows in our dataset.</td>\n",
       "            <td>[\"Age_Data\"] -> Tensor<br /><br /></td>\n",
       "            <td>d7a46e93-131e-49bb-8fb2-2b76282790af</td>\n",
       "          </tr>\n",
       "        </table>\n",
       "\n",
       "        <script>\n",
       "        function myFunction() {\n",
       "          // Declare variables\n",
       "          var input, filter, table, tr, td, i, txtValue;\n",
       "          input = document.getElementById(\"myInput\");\n",
       "          filter = input.value.toUpperCase();\n",
       "          table = document.getElementById(\"myTable\");\n",
       "          tr = table.getElementsByTagName(\"tr\");\n",
       "\n",
       "          // Loop through all table rows, and hide those who don't match the search query\n",
       "          for (i = 0; i < tr.length; i++) {\n",
       "            name_td = tr[i].getElementsByTagName(\"td\")[1];\n",
       "            desc_td = tr[i].getElementsByTagName(\"td\")[2];\n",
       "            asset_td = tr[i].getElementsByTagName(\"td\")[3];\n",
       "            id_td = tr[i].getElementsByTagName(\"td\")[4];\n",
       "            if (name_td || desc_td || asset_td || id_td) {\n",
       "              name_txtValue = name_td.textContent || name_td.innerText;\n",
       "              desc_txtValue = desc_td.textContent || name_td.innerText;\n",
       "              asset_txtValue = asset_td.textContent || name_td.innerText;\n",
       "              id_txtValue = id_td.textContent || name_td.innerText;\n",
       "              name_bool = name_txtValue.toUpperCase().indexOf(filter) > -1;\n",
       "              desc_bool = desc_txtValue.toUpperCase().indexOf(filter) > -1;\n",
       "              asset_bool = asset_txtValue.toUpperCase().indexOf(filter) > -1;\n",
       "              id_bool = id_txtValue.toUpperCase().indexOf(filter) > -1;\n",
       "              if (name_bool || desc_bool || asset_bool || id_bool) {\n",
       "                tr[i].style.display = \"\";\n",
       "              } else {\n",
       "                tr[i].style.display = \"none\";\n",
       "              }\n",
       "            }\n",
       "          }\n",
       "        }\n",
       "        </script>"
      ],
      "text/plain": [
       "<syft.core.node.common.client_manager.dataset_api.DatasetRequestAPI at 0x7f22e96b7f70>"
      ]
     },
     "execution_count": 35,
     "metadata": {},
     "output_type": "execute_result"
    }
   ],
   "source": [
    "domain.datasets"
   ]
  },
  {
   "cell_type": "code",
   "execution_count": 68,
   "id": "01787f37-dce2-4bd8-9d42-991ae4d23b61",
   "metadata": {
    "tags": []
   },
   "outputs": [
    {
     "data": {
      "text/html": [
       "<div>\n",
       "<style scoped>\n",
       "    .dataframe tbody tr th:only-of-type {\n",
       "        vertical-align: middle;\n",
       "    }\n",
       "\n",
       "    .dataframe tbody tr th {\n",
       "        vertical-align: top;\n",
       "    }\n",
       "\n",
       "    .dataframe thead th {\n",
       "        text-align: right;\n",
       "    }\n",
       "</style>\n",
       "<table border=\"1\" class=\"dataframe\">\n",
       "  <thead>\n",
       "    <tr style=\"text-align: right;\">\n",
       "      <th></th>\n",
       "      <th>ID</th>\n",
       "      <th>Tags</th>\n",
       "      <th>Description</th>\n",
       "      <th>object_type</th>\n",
       "    </tr>\n",
       "  </thead>\n",
       "  <tbody>\n",
       "    <tr>\n",
       "      <th>0</th>\n",
       "      <td>&lt;UID: 6ba49c38ec8643b5a06a8766cd057b3d&gt;</td>\n",
       "      <td>[#Age_Data]</td>\n",
       "      <td></td>\n",
       "      <td>&lt;class 'syft.core.tensor.tensor.Tensor'&gt;</td>\n",
       "    </tr>\n",
       "    <tr>\n",
       "      <th>1</th>\n",
       "      <td>&lt;UID: 91ec54d31497422b9a00c1669e21d962&gt;</td>\n",
       "      <td>[]</td>\n",
       "      <td>Approved AutoDP Result: &lt;UID: 91ec54d31497422b...</td>\n",
       "      <td>&lt;class 'numpy.ndarray'&gt;</td>\n",
       "    </tr>\n",
       "    <tr>\n",
       "      <th>2</th>\n",
       "      <td>&lt;UID: 9c49ecfe781b4bbb884d2955e79a4a52&gt;</td>\n",
       "      <td>[]</td>\n",
       "      <td>Approved AutoDP Result: &lt;UID: 9c49ecfe781b4bbb...</td>\n",
       "      <td>&lt;class 'numpy.ndarray'&gt;</td>\n",
       "    </tr>\n",
       "    <tr>\n",
       "      <th>3</th>\n",
       "      <td>&lt;UID: ba29ad93ecfe4641963392e8f1ca81a5&gt;</td>\n",
       "      <td>[]</td>\n",
       "      <td>Approved AutoDP Result: &lt;UID: ba29ad93ecfe4641...</td>\n",
       "      <td>&lt;class 'numpy.ndarray'&gt;</td>\n",
       "    </tr>\n",
       "    <tr>\n",
       "      <th>4</th>\n",
       "      <td>&lt;UID: 4596893809f44f6c92267c7f09fa7d51&gt;</td>\n",
       "      <td>[]</td>\n",
       "      <td>Approved AutoDP Result: &lt;UID: 4596893809f44f6c...</td>\n",
       "      <td>&lt;class 'numpy.ndarray'&gt;</td>\n",
       "    </tr>\n",
       "    <tr>\n",
       "      <th>5</th>\n",
       "      <td>&lt;UID: a3ada775cb244e2fb31a95bc7575563b&gt;</td>\n",
       "      <td>[]</td>\n",
       "      <td>Approved AutoDP Result: &lt;UID: a3ada775cb244e2f...</td>\n",
       "      <td>&lt;class 'numpy.ndarray'&gt;</td>\n",
       "    </tr>\n",
       "    <tr>\n",
       "      <th>6</th>\n",
       "      <td>&lt;UID: 3f22cbd5b50348318851379dce0724f2&gt;</td>\n",
       "      <td>[]</td>\n",
       "      <td>Approved AutoDP Result: &lt;UID: 3f22cbd5b5034831...</td>\n",
       "      <td>&lt;class 'numpy.ndarray'&gt;</td>\n",
       "    </tr>\n",
       "    <tr>\n",
       "      <th>7</th>\n",
       "      <td>&lt;UID: be6a72af9cf34cd58a44ed822f106dce&gt;</td>\n",
       "      <td>[]</td>\n",
       "      <td>Approved AutoDP Result: &lt;UID: be6a72af9cf34cd5...</td>\n",
       "      <td>&lt;class 'numpy.ndarray'&gt;</td>\n",
       "    </tr>\n",
       "    <tr>\n",
       "      <th>8</th>\n",
       "      <td>&lt;UID: fe30b33abf244f5b999cebe875333537&gt;</td>\n",
       "      <td>[#Age_Data]</td>\n",
       "      <td></td>\n",
       "      <td>&lt;class 'syft.core.tensor.tensor.Tensor'&gt;</td>\n",
       "    </tr>\n",
       "    <tr>\n",
       "      <th>9</th>\n",
       "      <td>&lt;UID: 5abaf5a5411f4c29b78635c777f9b78f&gt;</td>\n",
       "      <td>[]</td>\n",
       "      <td>Approved AutoDP Result: &lt;UID: 5abaf5a5411f4c29...</td>\n",
       "      <td>&lt;class 'numpy.ndarray'&gt;</td>\n",
       "    </tr>\n",
       "    <tr>\n",
       "      <th>10</th>\n",
       "      <td>&lt;UID: 3867b47d35ea4917a988d6b891bcff63&gt;</td>\n",
       "      <td>[]</td>\n",
       "      <td>Approved AutoDP Result: &lt;UID: 3867b47d35ea4917...</td>\n",
       "      <td>&lt;class 'numpy.ndarray'&gt;</td>\n",
       "    </tr>\n",
       "    <tr>\n",
       "      <th>11</th>\n",
       "      <td>&lt;UID: 97b1e0f82a15400e9442fa0282b25c51&gt;</td>\n",
       "      <td>[#Age_Data]</td>\n",
       "      <td></td>\n",
       "      <td>&lt;class 'syft.core.tensor.tensor.Tensor'&gt;</td>\n",
       "    </tr>\n",
       "    <tr>\n",
       "      <th>12</th>\n",
       "      <td>&lt;UID: 9862359ce9b54ae7a00cd8147707329a&gt;</td>\n",
       "      <td>[]</td>\n",
       "      <td>Approved AutoDP Result: &lt;UID: 9862359ce9b54ae7...</td>\n",
       "      <td>&lt;class 'numpy.ndarray'&gt;</td>\n",
       "    </tr>\n",
       "  </tbody>\n",
       "</table>\n",
       "</div>"
      ],
      "text/plain": [
       "[PointerId: 6ba49c38ec8643b5a06a8766cd057b3d\n",
       "Status: \u001b[92mReady\u001b[0m\n",
       "Representation: array([34, 96, 53, 65])\n",
       "\n",
       "(The data printed above is synthetic - it's an imitation of the real data.), <ndarrayPointer -> default_node_name:91ec54d31497422b9a00c1669e21d962, status=\u001b[92mReady\u001b[0m>, <ndarrayPointer -> default_node_name:9c49ecfe781b4bbb884d2955e79a4a52, status=\u001b[92mReady\u001b[0m>, <ndarrayPointer -> default_node_name:ba29ad93ecfe4641963392e8f1ca81a5, status=\u001b[92mReady\u001b[0m>, <ndarrayPointer -> default_node_name:4596893809f44f6c92267c7f09fa7d51, status=\u001b[92mReady\u001b[0m>, <ndarrayPointer -> default_node_name:a3ada775cb244e2fb31a95bc7575563b, status=\u001b[92mReady\u001b[0m>, <ndarrayPointer -> default_node_name:3f22cbd5b50348318851379dce0724f2, status=\u001b[92mReady\u001b[0m>, <ndarrayPointer -> default_node_name:be6a72af9cf34cd58a44ed822f106dce, status=\u001b[92mReady\u001b[0m>, PointerId: fe30b33abf244f5b999cebe875333537\n",
       "Status: \u001b[92mReady\u001b[0m\n",
       "Representation: array([23, 41, 37, 67, 69, 78, 57, 72, 75, 18, 42])\n",
       "\n",
       "(The data printed above is synthetic - it's an imitation of the real data.), <ndarrayPointer -> default_node_name:5abaf5a5411f4c29b78635c777f9b78f, status=\u001b[92mReady\u001b[0m>, <ndarrayPointer -> default_node_name:3867b47d35ea4917a988d6b891bcff63, status=\u001b[92mReady\u001b[0m>, PointerId: 97b1e0f82a15400e9442fa0282b25c51\n",
       "Status: \u001b[92mReady\u001b[0m\n",
       "Representation: array([ 3, 30, 95, 57, 45, 46, 91, 18, 79, 22, 26])\n",
       "\n",
       "(The data printed above is synthetic - it's an imitation of the real data.), <ndarrayPointer -> default_node_name:9862359ce9b54ae7a00cd8147707329a, status=\u001b[92mReady\u001b[0m>]"
      ]
     },
     "execution_count": 68,
     "metadata": {},
     "output_type": "execute_result"
    }
   ],
   "source": [
    "domain.store"
   ]
  },
  {
   "cell_type": "code",
   "execution_count": 22,
   "id": "9a77fc39-eb9f-4331-9a78-7951cbb72775",
   "metadata": {
    "tags": []
   },
   "outputs": [
    {
     "name": "stdout",
     "output_type": "stream",
     "text": [
      "Dataset: Family_Age_Dataset\n",
      "Description: Our dataset contains the Ages of our four Family members with unique ID's. There are 2 columns and 4 rows in our dataset.\n",
      "\n"
     ]
    },
    {
     "data": {
      "text/html": [
       "<style>\n",
       "        #myInput {\n",
       "          background-position: 10px 12px; /* Position the search icon */\n",
       "          background-repeat: no-repeat; /* Do not repeat the icon image */\n",
       "          background-color: #bbb;\n",
       "          width: 98%; /* Full-width */\n",
       "          font-size: 14px; /* Increase font-size */\n",
       "          padding: 12px 20px 12px 40px; /* Add some padding */\n",
       "          border: 1px solid #ddd; /* Add a grey border */\n",
       "          margin-bottom: 12px; /* Add some space below the input */\n",
       "        }\n",
       "\n",
       "        #myTable {\n",
       "          border-collapse: collapse; /* Collapse borders */\n",
       "          width: 50%; /* Full-width */\n",
       "          border: 1px solid #ddd; /* Add a grey border */\n",
       "          font-size: 14px; /* Increase font-size */\n",
       "        }\n",
       "\n",
       "        #myTable th, #myTable td {\n",
       "          text-align: left; /* Left-align text */\n",
       "          padding: 10px; /* Add padding */\n",
       "        }\n",
       "\n",
       "        #myTable tr {\n",
       "          /* Add a bottom border to all table rows */\n",
       "          border-bottom: 1px solid #ddd;\n",
       "        }\n",
       "\n",
       "        #myTable tr.header, #myTable tr:hover {\n",
       "          /* Add a grey background color to the table header and on hover */\n",
       "          background-color: #777;\n",
       "        }\n",
       "        </style>\n",
       "\n",
       "        <table id=\"myTable\">\n",
       "          <tr class=\"header\">\n",
       "            <th style=\"width:15%;\">Asset Key</th>\n",
       "            <th style=\"width:20%;\">Type</th>\n",
       "            <th style=\"width:10%;\">Shape</th>\n",
       "          </tr>\n",
       "        \n",
       "\n",
       "              <tr>\n",
       "            <td>[\"Age_Data\"]</td>\n",
       "            <td>Tensor</td>\n",
       "            <td>(4,)</td>\n",
       "          </tr>\n",
       "        </table>\n",
       "\n",
       "        "
      ],
      "text/plain": [
       "<syft.core.node.common.client_manager.dataset_api.Dataset at 0x7f23e40aa730>"
      ]
     },
     "execution_count": 22,
     "metadata": {},
     "output_type": "execute_result"
    }
   ],
   "source": [
    "family_age_dataset=domain.datasets[0]\n",
    "family_age_dataset"
   ]
  },
  {
   "cell_type": "code",
   "execution_count": 6,
   "id": "a556f7cf-2e86-4783-8c31-cfc24d4b09a0",
   "metadata": {
    "tags": []
   },
   "outputs": [
    {
     "data": {
      "text/plain": [
       "81.90986704659603"
      ]
     },
     "execution_count": 6,
     "metadata": {},
     "output_type": "execute_result"
    }
   ],
   "source": [
    "domain.privacy_budget"
   ]
  },
  {
   "cell_type": "code",
   "execution_count": 7,
   "id": "8beee5b9-367f-4610-ad2b-dee5a67abbc3",
   "metadata": {
    "tags": []
   },
   "outputs": [],
   "source": [
    "ages = family_age_dataset[\"Age_Data\"]"
   ]
  },
  {
   "cell_type": "code",
   "execution_count": 8,
   "id": "879c58fc-50af-48b3-8fff-1dca4e6d5825",
   "metadata": {
    "tags": []
   },
   "outputs": [
    {
     "data": {
      "text/plain": [
       "dtype('int64')"
      ]
     },
     "execution_count": 8,
     "metadata": {},
     "output_type": "execute_result"
    }
   ],
   "source": [
    "ages.public_dtype"
   ]
  },
  {
   "cell_type": "code",
   "execution_count": 9,
   "id": "0b75b001-ebf7-43ba-b1d2-956e28226997",
   "metadata": {
    "tags": []
   },
   "outputs": [
    {
     "data": {
      "text/plain": [
       "PointerId: 6ba49c38ec8643b5a06a8766cd057b3d\n",
       "Status: \u001b[92mReady\u001b[0m\n",
       "Representation: array([88, 80, 78, 94])\n",
       "\n",
       "(The data printed above is synthetic - it's an imitation of the real data.)"
      ]
     },
     "execution_count": 9,
     "metadata": {},
     "output_type": "execute_result"
    }
   ],
   "source": [
    "family_age_dataset[\"Age_Data\"]\n"
   ]
  },
  {
   "cell_type": "code",
   "execution_count": 10,
   "id": "f05ad370-db68-4ede-b32b-7bd89ff2dd7e",
   "metadata": {
    "tags": []
   },
   "outputs": [],
   "source": [
    "mean_age_public = ages.publish(sigma=20)\n"
   ]
  },
  {
   "cell_type": "code",
   "execution_count": 11,
   "id": "28dada56-7c20-45ce-818a-7f8cc6d40198",
   "metadata": {
    "tags": []
   },
   "outputs": [
    {
     "data": {
      "text/plain": [
       "<ndarrayPointer -> default_node_name:91ec54d31497422b9a00c1669e21d962, status=\u001b[93mProcessing\u001b[0m>"
      ]
     },
     "execution_count": 11,
     "metadata": {},
     "output_type": "execute_result"
    }
   ],
   "source": [
    "mean_age_public"
   ]
  },
  {
   "cell_type": "code",
   "execution_count": 12,
   "id": "6a111c6b-b4b2-4345-a4f5-2e25c6a73f13",
   "metadata": {},
   "outputs": [
    {
     "data": {
      "text/plain": [
       "array([32.99935534, 21.47710061, 10.53703462, 10.03608156])"
      ]
     },
     "execution_count": 12,
     "metadata": {},
     "output_type": "execute_result"
    }
   ],
   "source": [
    "mean_age_public.get(delete_obj=False)"
   ]
  },
  {
   "cell_type": "markdown",
   "id": "5c10c6f9-d71c-473b-88f0-fd1f2b9db3d7",
   "metadata": {},
   "source": [
    "Достаем второй датасет"
   ]
  },
  {
   "cell_type": "code",
   "execution_count": 38,
   "id": "4f90dfb3-c9cc-44a9-be3f-680740445caa",
   "metadata": {},
   "outputs": [
    {
     "name": "stdout",
     "output_type": "stream",
     "text": [
      "Dataset: Spiderman_Age_v2_Dataset\n",
      "Description: Our dataset contains the Ages of people who watched the movie Spiderman in the cinema in Moscow version 2. There are 2 columns and 11 rows in our dataset.\n",
      "\n"
     ]
    },
    {
     "data": {
      "text/html": [
       "<style>\n",
       "        #myInput {\n",
       "          background-position: 10px 12px; /* Position the search icon */\n",
       "          background-repeat: no-repeat; /* Do not repeat the icon image */\n",
       "          background-color: #bbb;\n",
       "          width: 98%; /* Full-width */\n",
       "          font-size: 14px; /* Increase font-size */\n",
       "          padding: 12px 20px 12px 40px; /* Add some padding */\n",
       "          border: 1px solid #ddd; /* Add a grey border */\n",
       "          margin-bottom: 12px; /* Add some space below the input */\n",
       "        }\n",
       "\n",
       "        #myTable {\n",
       "          border-collapse: collapse; /* Collapse borders */\n",
       "          width: 50%; /* Full-width */\n",
       "          border: 1px solid #ddd; /* Add a grey border */\n",
       "          font-size: 14px; /* Increase font-size */\n",
       "        }\n",
       "\n",
       "        #myTable th, #myTable td {\n",
       "          text-align: left; /* Left-align text */\n",
       "          padding: 10px; /* Add padding */\n",
       "        }\n",
       "\n",
       "        #myTable tr {\n",
       "          /* Add a bottom border to all table rows */\n",
       "          border-bottom: 1px solid #ddd;\n",
       "        }\n",
       "\n",
       "        #myTable tr.header, #myTable tr:hover {\n",
       "          /* Add a grey background color to the table header and on hover */\n",
       "          background-color: #777;\n",
       "        }\n",
       "        </style>\n",
       "\n",
       "        <table id=\"myTable\">\n",
       "          <tr class=\"header\">\n",
       "            <th style=\"width:15%;\">Asset Key</th>\n",
       "            <th style=\"width:20%;\">Type</th>\n",
       "            <th style=\"width:10%;\">Shape</th>\n",
       "          </tr>\n",
       "        \n",
       "\n",
       "              <tr>\n",
       "            <td>[\"Age_Data\"]</td>\n",
       "            <td>Tensor</td>\n",
       "            <td>(11,)</td>\n",
       "          </tr>\n",
       "        </table>\n",
       "\n",
       "        "
      ],
      "text/plain": [
       "<syft.core.node.common.client_manager.dataset_api.Dataset at 0x7f22e9bfa970>"
      ]
     },
     "execution_count": 38,
     "metadata": {},
     "output_type": "execute_result"
    }
   ],
   "source": [
    "spiderman_age_dataset=domain.datasets[2]\n",
    "spiderman_age_dataset"
   ]
  },
  {
   "cell_type": "code",
   "execution_count": 63,
   "id": "4366a6f0-c18b-4e44-b5d2-5f6d07d5902d",
   "metadata": {},
   "outputs": [
    {
     "data": {
      "text/plain": [
       "847.8316369745248"
      ]
     },
     "execution_count": 63,
     "metadata": {},
     "output_type": "execute_result"
    }
   ],
   "source": [
    "domain.privacy_budget"
   ]
  },
  {
   "cell_type": "code",
   "execution_count": 40,
   "id": "2c0b3385-5738-4ee3-9279-94eba568a95f",
   "metadata": {},
   "outputs": [],
   "source": [
    "ages = spiderman_age_dataset[\"Age_Data\"]"
   ]
  },
  {
   "cell_type": "code",
   "execution_count": 41,
   "id": "7924e322-595e-493f-af4e-674aac76fe5a",
   "metadata": {},
   "outputs": [
    {
     "data": {
      "text/plain": [
       "PointerId: 97b1e0f82a15400e9442fa0282b25c51\n",
       "Status: \u001b[92mReady\u001b[0m\n",
       "Representation: array([72, 22, 25,  4, 95, 42, 46, 36, 28,  6, 36])\n",
       "\n",
       "(The data printed above is synthetic - it's an imitation of the real data.)"
      ]
     },
     "execution_count": 41,
     "metadata": {},
     "output_type": "execute_result"
    }
   ],
   "source": [
    "spiderman_age_dataset[\"Age_Data\"]"
   ]
  },
  {
   "cell_type": "code",
   "execution_count": 58,
   "id": "341db93b-ac1a-43a8-93e4-88780d68f6e2",
   "metadata": {},
   "outputs": [],
   "source": [
    "spider_mean_age_public = ages.publish(sigma=8)"
   ]
  },
  {
   "cell_type": "code",
   "execution_count": 59,
   "id": "da704fd4-ab1a-4cad-9652-b8880d691e73",
   "metadata": {},
   "outputs": [
    {
     "data": {
      "text/plain": [
       "<ndarrayPointer -> default_node_name:3f22cbd5b50348318851379dce0724f2, status=\u001b[92mReady\u001b[0m>"
      ]
     },
     "execution_count": 59,
     "metadata": {},
     "output_type": "execute_result"
    }
   ],
   "source": [
    "spider_mean_age_public"
   ]
  },
  {
   "cell_type": "code",
   "execution_count": 64,
   "id": "e6ab840b-fb7a-4c71-9542-c7c0115efaaf",
   "metadata": {
    "tags": []
   },
   "outputs": [],
   "source": [
    "result_arr = spider_mean_age_public.get(delete_obj=False)"
   ]
  },
  {
   "cell_type": "code",
   "execution_count": 65,
   "id": "aedafd9d-89b2-4fa2-b0da-daf86220dee0",
   "metadata": {},
   "outputs": [
    {
     "data": {
      "text/plain": [
       "array([17.36214563, 26.46931173, 18.11931484, 21.05759375, 18.38698209,\n",
       "       16.8739602 ,  6.88442038, 24.95978123,  8.66941377, 15.67948188,\n",
       "       22.75392723])"
      ]
     },
     "execution_count": 65,
     "metadata": {},
     "output_type": "execute_result"
    }
   ],
   "source": [
    "result_arr"
   ]
  },
  {
   "cell_type": "code",
   "execution_count": 66,
   "id": "dd556986-0640-4d89-b5f1-b545cd945d9b",
   "metadata": {
    "tags": []
   },
   "outputs": [],
   "source": [
    "mean_age = result_arr.mean()"
   ]
  },
  {
   "cell_type": "code",
   "execution_count": 67,
   "id": "e5f1758a-6570-41df-b85e-fbbe11f7a0f3",
   "metadata": {
    "tags": []
   },
   "outputs": [
    {
     "data": {
      "text/plain": [
       "17.928757519642357"
      ]
     },
     "execution_count": 67,
     "metadata": {},
     "output_type": "execute_result"
    }
   ],
   "source": [
    "mean_age"
   ]
  },
  {
   "cell_type": "code",
   "execution_count": null,
   "id": "89f412ca-82c5-4a7e-81eb-b1bd6f368556",
   "metadata": {},
   "outputs": [],
   "source": []
  }
 ],
 "metadata": {
  "kernelspec": {
   "display_name": "Python 3 (ipykernel)",
   "language": "python",
   "name": "python3"
  },
  "language_info": {
   "codemirror_mode": {
    "name": "ipython",
    "version": 3
   },
   "file_extension": ".py",
   "mimetype": "text/x-python",
   "name": "python",
   "nbconvert_exporter": "python",
   "pygments_lexer": "ipython3",
   "version": "3.9.16"
  }
 },
 "nbformat": 4,
 "nbformat_minor": 5
}
