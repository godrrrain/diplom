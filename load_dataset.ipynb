{
 "cells": [
  {
   "cell_type": "code",
   "execution_count": 1,
   "id": "81c82f55-f854-436e-a9d8-e4c4596699b2",
   "metadata": {
    "tags": []
   },
   "outputs": [
    {
     "name": "stderr",
     "output_type": "stream",
     "text": [
      "/home/banan/anaconda3/envs/syft_env/lib/python3.9/site-packages/tqdm/auto.py:22: TqdmWarning: IProgress not found. Please update jupyter and ipywidgets. See https://ipywidgets.readthedocs.io/en/stable/user_install.html\n",
      "  from .autonotebook import tqdm as notebook_tqdm\n"
     ]
    },
    {
     "name": "stdout",
     "output_type": "stream",
     "text": [
      "Syft is imported\n"
     ]
    }
   ],
   "source": [
    "# run this cell\n",
    "try:\n",
    "    import syft as sy\n",
    "    print(\"Syft is imported\")\n",
    "except:\n",
    "    print(\"Syft is not installed. Please use the 🧙🏽‍♂️ Install Wizard above.\")"
   ]
  },
  {
   "cell_type": "code",
   "execution_count": 2,
   "id": "2b833cc0-288a-4d04-a9b3-7347e68e9cae",
   "metadata": {
    "tags": []
   },
   "outputs": [
    {
     "name": "stdout",
     "output_type": "stream",
     "text": [
      "\u001b[93mWARNING:\u001b[0m CHANGE YOUR USERNAME AND PASSWORD!!! \n",
      "\n",
      "Anyone can login as an admin to your node right now because your password is still the default PySyft username and password!!!\n",
      "\n",
      "Connecting to localhost... done! \t Logging into default_node_name... done!\n"
     ]
    }
   ],
   "source": [
    "try:\n",
    "    domain_client = sy.login(\n",
    "       port=8081,\n",
    "       email=\"info@openmined.org\",\n",
    "       password=\"changethis\"\n",
    "    )\n",
    "except Exception as e:\n",
    "    print(\"Unable to login. Please check your domain is up with `!hagrid check localhost:8081 --timeout=120`\")"
   ]
  },
  {
   "cell_type": "code",
   "execution_count": null,
   "id": "ca4863b1-5504-4b73-991e-1504057a5661",
   "metadata": {
    "tags": []
   },
   "outputs": [],
   "source": [
    "try:\n",
    "    import pandas as pd\n",
    "    data = {'ID': ['011', '015', '022', '034'],\n",
    "           'Age': [40, 39, 9, 8]}\n",
    "\n",
    "    dataset = pd.DataFrame(data)\n",
    "    print(dataset.head())\n",
    "except Exception:\n",
    "    print(\"Install the latest version of Pandas using the command: !pip install pandas\")"
   ]
  },
  {
   "cell_type": "code",
   "execution_count": null,
   "id": "97fd0a81-d98b-40f4-a618-5e4d4054f9fa",
   "metadata": {
    "tags": []
   },
   "outputs": [],
   "source": [
    "data_subjects = sy.DataSubjectArray.from_objs(dataset[\"ID\"])\n",
    "\n",
    "age_data = sy.Tensor(dataset[\"Age\"]).annotate_with_dp_metadata(\n",
    "   lower_bound=0, upper_bound=100, data_subject=data_subjects\n",
    ")"
   ]
  },
  {
   "cell_type": "code",
   "execution_count": null,
   "id": "1963b1cb-963a-44e8-ba58-9e7052759480",
   "metadata": {
    "tags": []
   },
   "outputs": [],
   "source": [
    "domain_client.load_dataset(\n",
    "   name=\"Family_Age_Dataset\",\n",
    "   assets={\n",
    "       \"Age_Data\": age_data,\n",
    "   },\n",
    "   description=\"Our dataset contains the Ages of our four Family members with unique ID's. There are 2 columns and 4 rows in our dataset.\"\n",
    ")"
   ]
  },
  {
   "cell_type": "code",
   "execution_count": 3,
   "id": "2d09e4d5-bc16-492d-9a85-4efaed246192",
   "metadata": {},
   "outputs": [
    {
     "data": {
      "text/html": [
       "<style>\n",
       "                #myInput {\n",
       "                  background-position: 10px 12px; /* Position the search icon */\n",
       "                  background-repeat: no-repeat; /* Do not repeat the icon image */\n",
       "                  background-color: #bbb;\n",
       "                  width: 98%; /* Full-width */\n",
       "                  font-size: 14px; /* Increase font-size */\n",
       "                  padding: 12px 20px 12px 40px; /* Add some padding */\n",
       "                  border: 1px solid #ddd; /* Add a grey border */\n",
       "                  margin-bottom: 12px; /* Add some space below the input */\n",
       "                }\n",
       "\n",
       "                #myTable {\n",
       "                  border-collapse: collapse; /* Collapse borders */\n",
       "                  width: 100%; /* Full-width */\n",
       "                  border: 1px solid #ddd; /* Add a grey border */\n",
       "                  font-size: 14px; /* Increase font-size */\n",
       "                }\n",
       "\n",
       "                #myTable th, #myTable td {\n",
       "                  text-align: left; /* Left-align text */\n",
       "                  padding: 10px; /* Add padding */\n",
       "                }\n",
       "\n",
       "                #myTable tr {\n",
       "                  /* Add a bottom border to all table rows */\n",
       "                  border-bottom: 1px solid #ddd;\n",
       "                }\n",
       "\n",
       "                #myTable tr.header, #myTable tr:hover {\n",
       "                  /* Add a grey background color to the table header and on hover */\n",
       "                  background-color: #777;\n",
       "                }\n",
       "                </style>\n",
       "\n",
       "                <table id=\"myTable\" style=\"width:1000px\">\n",
       "                  <tr class=\"header\">\n",
       "                    <th style=\"width:30px\">Idx</th>\n",
       "                    <th style=\"width:20%;\">Name</th>\n",
       "                    <th style=\"width:35%;\">Description</th>\n",
       "                    <th style=\"width:20%;\">Assets</th>\n",
       "                    <th style=\"width:300px;\">Id</th>\n",
       "                  </tr>\n",
       "                \n",
       "\n",
       "          <tr>\n",
       "            <td>[0]</td>\n",
       "            <td>Family_Age_Dataset</td>\n",
       "            <td>Our dataset contains the Ages of our four Family members with unique ID's. There are 2 columns and 4 rows in our dataset.</td>\n",
       "            <td>[\"Age_Data\"] -> Tensor<br /><br /></td>\n",
       "            <td>2515f228-3967-4b88-ae59-df697aad6518</td>\n",
       "          </tr>\n",
       "\n",
       "          <tr>\n",
       "            <td>[1]</td>\n",
       "            <td>Spiderman_Audience_Age_Dataset</td>\n",
       "            <td>Our dataset contains the Ages of people who watched the movie Spiderman in the cinema in Moscow. There are 2 columns and 11 rows in our dataset.</td>\n",
       "            <td>[\"Age_Data\"] -> Tensor<br /><br /></td>\n",
       "            <td>0969b9b9-af47-41e3-9604-4eeb9f16c4bb</td>\n",
       "          </tr>\n",
       "        </table>\n",
       "\n",
       "        <script>\n",
       "        function myFunction() {\n",
       "          // Declare variables\n",
       "          var input, filter, table, tr, td, i, txtValue;\n",
       "          input = document.getElementById(\"myInput\");\n",
       "          filter = input.value.toUpperCase();\n",
       "          table = document.getElementById(\"myTable\");\n",
       "          tr = table.getElementsByTagName(\"tr\");\n",
       "\n",
       "          // Loop through all table rows, and hide those who don't match the search query\n",
       "          for (i = 0; i < tr.length; i++) {\n",
       "            name_td = tr[i].getElementsByTagName(\"td\")[1];\n",
       "            desc_td = tr[i].getElementsByTagName(\"td\")[2];\n",
       "            asset_td = tr[i].getElementsByTagName(\"td\")[3];\n",
       "            id_td = tr[i].getElementsByTagName(\"td\")[4];\n",
       "            if (name_td || desc_td || asset_td || id_td) {\n",
       "              name_txtValue = name_td.textContent || name_td.innerText;\n",
       "              desc_txtValue = desc_td.textContent || name_td.innerText;\n",
       "              asset_txtValue = asset_td.textContent || name_td.innerText;\n",
       "              id_txtValue = id_td.textContent || name_td.innerText;\n",
       "              name_bool = name_txtValue.toUpperCase().indexOf(filter) > -1;\n",
       "              desc_bool = desc_txtValue.toUpperCase().indexOf(filter) > -1;\n",
       "              asset_bool = asset_txtValue.toUpperCase().indexOf(filter) > -1;\n",
       "              id_bool = id_txtValue.toUpperCase().indexOf(filter) > -1;\n",
       "              if (name_bool || desc_bool || asset_bool || id_bool) {\n",
       "                tr[i].style.display = \"\";\n",
       "              } else {\n",
       "                tr[i].style.display = \"none\";\n",
       "              }\n",
       "            }\n",
       "          }\n",
       "        }\n",
       "        </script>"
      ],
      "text/plain": [
       "<syft.core.node.common.client_manager.dataset_api.DatasetRequestAPI at 0x7f3e09b86850>"
      ]
     },
     "execution_count": 3,
     "metadata": {},
     "output_type": "execute_result"
    }
   ],
   "source": [
    "domain_client.datasets"
   ]
  },
  {
   "cell_type": "markdown",
   "id": "5e04ea98-c09d-4a68-9e83-f9f8bbea97e4",
   "metadata": {},
   "source": [
    "Добавим второй датасет"
   ]
  },
  {
   "cell_type": "code",
   "execution_count": 4,
   "id": "5a1acb8c-80fe-4496-9aff-f8da56e00a95",
   "metadata": {
    "tags": []
   },
   "outputs": [
    {
     "name": "stdout",
     "output_type": "stream",
     "text": [
      "    ID  Age\n",
      "0  001   38\n",
      "1  004   28\n",
      "2  005   21\n",
      "3  009   19\n",
      "4  011   18\n"
     ]
    }
   ],
   "source": [
    "try:\n",
    "    import pandas as pd\n",
    "    data = {'ID': ['001', '004', '005', '009', '011', '018', '022', '023', '026', '029', '034'],\n",
    "           'Age': [38, 28, 21, 19, 18, 17, 17, 17, 16, 15, 12]}\n",
    "\n",
    "    dataset = pd.DataFrame(data)\n",
    "    print(dataset.head())\n",
    "except Exception:\n",
    "    print(\"Install the latest version of Pandas using the command: !pip install pandas\")"
   ]
  },
  {
   "cell_type": "code",
   "execution_count": 5,
   "id": "4788f2e0-bb64-4c9d-90b7-3bf19d99d66c",
   "metadata": {
    "tags": []
   },
   "outputs": [
    {
     "name": "stdout",
     "output_type": "stream",
     "text": [
      "Tensor annotated with DP Metadata!\n",
      "You can upload this Tensor to a domain node by calling `<domain_client>.load_dataset` and passing in this tensor as an asset.\n"
     ]
    }
   ],
   "source": [
    "data_subjects = sy.DataSubjectArray.from_objs(dataset[\"ID\"])\n",
    "\n",
    "age_data = sy.Tensor(dataset[\"Age\"]).annotate_with_dp_metadata(\n",
    "   lower_bound=0, upper_bound=100, data_subject=data_subjects\n",
    ")"
   ]
  },
  {
   "cell_type": "code",
   "execution_count": 6,
   "id": "05ba410a-d105-4f3e-8d31-23cd32181139",
   "metadata": {
    "tags": []
   },
   "outputs": [
    {
     "name": "stdout",
     "output_type": "stream",
     "text": [
      "Loading dataset... uploading...🚀                                                                                                                                             "
     ]
    },
    {
     "name": "stderr",
     "output_type": "stream",
     "text": [
      "Uploading `Age_Data`: 100%|\u001b[32m██████████████████████████████████████████\u001b[0m| 1/1 [00:00<00:00, 112.04it/s]\u001b[0m"
     ]
    },
    {
     "name": "stdout",
     "output_type": "stream",
     "text": [
      "Dataset is uploaded successfully !!! 🎉\n",
      "\n",
      "Run `<your client variable>.datasets` to see your new dataset loaded into your machine!\n"
     ]
    },
    {
     "name": "stderr",
     "output_type": "stream",
     "text": [
      "\n"
     ]
    }
   ],
   "source": [
    "domain_client.load_dataset(\n",
    "   name=\"Spiderman_Age_v2_Dataset\",\n",
    "   assets={\n",
    "       \"Age_Data\": age_data,\n",
    "   },\n",
    "   description=\"Our dataset contains the Ages of people who watched the movie Spiderman in the cinema in Moscow version 2. There are 2 columns and 11 rows in our dataset.\"\n",
    ")"
   ]
  },
  {
   "cell_type": "code",
   "execution_count": 7,
   "id": "bd56ffa9-a032-473f-bba9-477e616651ec",
   "metadata": {
    "tags": []
   },
   "outputs": [
    {
     "data": {
      "text/html": [
       "<style>\n",
       "                #myInput {\n",
       "                  background-position: 10px 12px; /* Position the search icon */\n",
       "                  background-repeat: no-repeat; /* Do not repeat the icon image */\n",
       "                  background-color: #bbb;\n",
       "                  width: 98%; /* Full-width */\n",
       "                  font-size: 14px; /* Increase font-size */\n",
       "                  padding: 12px 20px 12px 40px; /* Add some padding */\n",
       "                  border: 1px solid #ddd; /* Add a grey border */\n",
       "                  margin-bottom: 12px; /* Add some space below the input */\n",
       "                }\n",
       "\n",
       "                #myTable {\n",
       "                  border-collapse: collapse; /* Collapse borders */\n",
       "                  width: 100%; /* Full-width */\n",
       "                  border: 1px solid #ddd; /* Add a grey border */\n",
       "                  font-size: 14px; /* Increase font-size */\n",
       "                }\n",
       "\n",
       "                #myTable th, #myTable td {\n",
       "                  text-align: left; /* Left-align text */\n",
       "                  padding: 10px; /* Add padding */\n",
       "                }\n",
       "\n",
       "                #myTable tr {\n",
       "                  /* Add a bottom border to all table rows */\n",
       "                  border-bottom: 1px solid #ddd;\n",
       "                }\n",
       "\n",
       "                #myTable tr.header, #myTable tr:hover {\n",
       "                  /* Add a grey background color to the table header and on hover */\n",
       "                  background-color: #777;\n",
       "                }\n",
       "                </style>\n",
       "\n",
       "                <table id=\"myTable\" style=\"width:1000px\">\n",
       "                  <tr class=\"header\">\n",
       "                    <th style=\"width:30px\">Idx</th>\n",
       "                    <th style=\"width:20%;\">Name</th>\n",
       "                    <th style=\"width:35%;\">Description</th>\n",
       "                    <th style=\"width:20%;\">Assets</th>\n",
       "                    <th style=\"width:300px;\">Id</th>\n",
       "                  </tr>\n",
       "                \n",
       "\n",
       "          <tr>\n",
       "            <td>[0]</td>\n",
       "            <td>Family_Age_Dataset</td>\n",
       "            <td>Our dataset contains the Ages of our four Family members with unique ID's. There are 2 columns and 4 rows in our dataset.</td>\n",
       "            <td>[\"Age_Data\"] -> Tensor<br /><br /></td>\n",
       "            <td>2515f228-3967-4b88-ae59-df697aad6518</td>\n",
       "          </tr>\n",
       "\n",
       "          <tr>\n",
       "            <td>[1]</td>\n",
       "            <td>Spiderman_Audience_Age_Dataset</td>\n",
       "            <td>Our dataset contains the Ages of people who watched the movie Spiderman in the cinema in Moscow. There are 2 columns and 11 rows in our dataset.</td>\n",
       "            <td>[\"Age_Data\"] -> Tensor<br /><br /></td>\n",
       "            <td>0969b9b9-af47-41e3-9604-4eeb9f16c4bb</td>\n",
       "          </tr>\n",
       "\n",
       "          <tr>\n",
       "            <td>[2]</td>\n",
       "            <td>Spiderman_Age_v2_Dataset</td>\n",
       "            <td>Our dataset contains the Ages of people who watched the movie Spiderman in the cinema in Moscow version 2. There are 2 columns and 11 rows in our dataset.</td>\n",
       "            <td>[\"Age_Data\"] -> Tensor<br /><br /></td>\n",
       "            <td>d7a46e93-131e-49bb-8fb2-2b76282790af</td>\n",
       "          </tr>\n",
       "        </table>\n",
       "\n",
       "        <script>\n",
       "        function myFunction() {\n",
       "          // Declare variables\n",
       "          var input, filter, table, tr, td, i, txtValue;\n",
       "          input = document.getElementById(\"myInput\");\n",
       "          filter = input.value.toUpperCase();\n",
       "          table = document.getElementById(\"myTable\");\n",
       "          tr = table.getElementsByTagName(\"tr\");\n",
       "\n",
       "          // Loop through all table rows, and hide those who don't match the search query\n",
       "          for (i = 0; i < tr.length; i++) {\n",
       "            name_td = tr[i].getElementsByTagName(\"td\")[1];\n",
       "            desc_td = tr[i].getElementsByTagName(\"td\")[2];\n",
       "            asset_td = tr[i].getElementsByTagName(\"td\")[3];\n",
       "            id_td = tr[i].getElementsByTagName(\"td\")[4];\n",
       "            if (name_td || desc_td || asset_td || id_td) {\n",
       "              name_txtValue = name_td.textContent || name_td.innerText;\n",
       "              desc_txtValue = desc_td.textContent || name_td.innerText;\n",
       "              asset_txtValue = asset_td.textContent || name_td.innerText;\n",
       "              id_txtValue = id_td.textContent || name_td.innerText;\n",
       "              name_bool = name_txtValue.toUpperCase().indexOf(filter) > -1;\n",
       "              desc_bool = desc_txtValue.toUpperCase().indexOf(filter) > -1;\n",
       "              asset_bool = asset_txtValue.toUpperCase().indexOf(filter) > -1;\n",
       "              id_bool = id_txtValue.toUpperCase().indexOf(filter) > -1;\n",
       "              if (name_bool || desc_bool || asset_bool || id_bool) {\n",
       "                tr[i].style.display = \"\";\n",
       "              } else {\n",
       "                tr[i].style.display = \"none\";\n",
       "              }\n",
       "            }\n",
       "          }\n",
       "        }\n",
       "        </script>"
      ],
      "text/plain": [
       "<syft.core.node.common.client_manager.dataset_api.DatasetRequestAPI at 0x7f3e09b86850>"
      ]
     },
     "execution_count": 7,
     "metadata": {},
     "output_type": "execute_result"
    }
   ],
   "source": [
    "domain_client.datasets"
   ]
  },
  {
   "cell_type": "code",
   "execution_count": null,
   "id": "685cc553-f9f2-4b19-aeac-7f2b1f6da0c0",
   "metadata": {},
   "outputs": [],
   "source": []
  }
 ],
 "metadata": {
  "kernelspec": {
   "display_name": "Python 3 (ipykernel)",
   "language": "python",
   "name": "python3"
  },
  "language_info": {
   "codemirror_mode": {
    "name": "ipython",
    "version": 3
   },
   "file_extension": ".py",
   "mimetype": "text/x-python",
   "name": "python",
   "nbconvert_exporter": "python",
   "pygments_lexer": "ipython3",
   "version": "3.9.16"
  }
 },
 "nbformat": 4,
 "nbformat_minor": 5
}
